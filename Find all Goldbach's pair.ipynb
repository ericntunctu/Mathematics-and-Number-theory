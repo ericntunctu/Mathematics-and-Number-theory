{
 "cells": [
  {
   "cell_type": "code",
   "execution_count": 16,
   "metadata": {},
   "outputs": [],
   "source": [
    "# test primes if yes, return 1; else, return 0\n",
    "import math\n",
    "def whet(p):\n",
    "    if p==2:\n",
    "        return 1\n",
    "    else:\n",
    "        a=0\n",
    "        for i in range(2, math.ceil(math.sqrt(p))+1):\n",
    "            if p%i==0:\n",
    "                a=a+1\n",
    "                break\n",
    "        if a>=1:\n",
    "             return 0\n",
    "        else:\n",
    "             return 1\n",
    "    "
   ]
  },
  {
   "cell_type": "code",
   "execution_count": 23,
   "metadata": {},
   "outputs": [],
   "source": [
    "## return all goldbach pair:\n",
    "def goldbach(x):\n",
    "    for i in range(2, math.floor(x/2+1)):\n",
    "        if whet(i)==1 and whet(x-i)==1:\n",
    "            print(i, x-i)"
   ]
  },
  {
   "cell_type": "code",
   "execution_count": 18,
   "metadata": {},
   "outputs": [
    {
     "name": "stdout",
     "output_type": "stream",
     "text": [
      "2 2\n"
     ]
    }
   ],
   "source": [
    " goldbach(4)"
   ]
  },
  {
   "cell_type": "code",
   "execution_count": 21,
   "metadata": {},
   "outputs": [
    {
     "name": "stdout",
     "output_type": "stream",
     "text": [
      "3 3\n"
     ]
    }
   ],
   "source": [
    " goldbach(6)"
   ]
  },
  {
   "cell_type": "code",
   "execution_count": 24,
   "metadata": {},
   "outputs": [
    {
     "name": "stdout",
     "output_type": "stream",
     "text": [
      "5 7\n"
     ]
    }
   ],
   "source": [
    " goldbach(12)"
   ]
  },
  {
   "cell_type": "code",
   "execution_count": 25,
   "metadata": {},
   "outputs": [
    {
     "name": "stdout",
     "output_type": "stream",
     "text": [
      "3 11\n",
      "7 7\n"
     ]
    }
   ],
   "source": [
    " goldbach(14)"
   ]
  },
  {
   "cell_type": "code",
   "execution_count": 26,
   "metadata": {},
   "outputs": [
    {
     "name": "stdout",
     "output_type": "stream",
     "text": [
      "7 4493\n",
      "17 4483\n",
      "19 4481\n",
      "37 4463\n",
      "43 4457\n",
      "53 4447\n",
      "59 4441\n",
      "79 4421\n",
      "103 4397\n",
      "109 4391\n",
      "127 4373\n",
      "137 4363\n",
      "151 4349\n",
      "163 4337\n",
      "173 4327\n",
      "211 4289\n",
      "227 4273\n",
      "229 4271\n",
      "239 4261\n",
      "241 4259\n",
      "257 4243\n",
      "269 4231\n",
      "271 4229\n",
      "281 4219\n",
      "283 4217\n",
      "347 4153\n",
      "367 4133\n",
      "373 4127\n",
      "389 4111\n",
      "401 4099\n",
      "409 4091\n",
      "421 4079\n",
      "443 4057\n",
      "449 4051\n",
      "479 4021\n",
      "487 4013\n",
      "499 4001\n",
      "557 3943\n",
      "569 3931\n",
      "571 3929\n",
      "577 3923\n",
      "593 3907\n",
      "619 3881\n",
      "647 3853\n",
      "653 3847\n",
      "677 3823\n",
      "733 3767\n",
      "739 3761\n",
      "761 3739\n",
      "773 3727\n",
      "809 3691\n",
      "823 3677\n",
      "827 3673\n",
      "829 3671\n",
      "857 3643\n",
      "863 3637\n",
      "877 3623\n",
      "883 3617\n",
      "887 3613\n",
      "907 3593\n",
      "919 3581\n",
      "929 3571\n",
      "941 3559\n",
      "953 3547\n",
      "967 3533\n",
      "971 3529\n",
      "983 3517\n",
      "1009 3491\n",
      "1031 3469\n",
      "1033 3467\n",
      "1039 3461\n",
      "1051 3449\n",
      "1087 3413\n",
      "1093 3407\n",
      "1109 3391\n",
      "1129 3371\n",
      "1153 3347\n",
      "1171 3329\n",
      "1181 3319\n",
      "1187 3313\n",
      "1193 3307\n",
      "1201 3299\n",
      "1229 3271\n",
      "1249 3251\n",
      "1279 3221\n",
      "1283 3217\n",
      "1291 3209\n",
      "1297 3203\n",
      "1319 3181\n",
      "1381 3119\n",
      "1433 3067\n",
      "1439 3061\n",
      "1451 3049\n",
      "1459 3041\n",
      "1481 3019\n",
      "1489 3011\n",
      "1499 3001\n",
      "1531 2969\n",
      "1543 2957\n",
      "1583 2917\n",
      "1597 2903\n",
      "1613 2887\n",
      "1621 2879\n",
      "1657 2843\n",
      "1663 2837\n",
      "1667 2833\n",
      "1697 2803\n",
      "1699 2801\n",
      "1709 2791\n",
      "1723 2777\n",
      "1733 2767\n",
      "1747 2753\n",
      "1759 2741\n",
      "1787 2713\n",
      "1789 2711\n",
      "1801 2699\n",
      "1811 2689\n",
      "1823 2677\n",
      "1867 2633\n",
      "1879 2621\n",
      "1907 2593\n",
      "1949 2551\n",
      "1951 2549\n",
      "1979 2521\n",
      "1997 2503\n",
      "2027 2473\n",
      "2053 2447\n",
      "2063 2437\n",
      "2083 2417\n",
      "2089 2411\n",
      "2111 2389\n",
      "2129 2371\n",
      "2143 2357\n",
      "2153 2347\n",
      "2161 2339\n",
      "2203 2297\n",
      "2207 2293\n",
      "2213 2287\n"
     ]
    }
   ],
   "source": [
    " goldbach(4500)"
   ]
  },
  {
   "cell_type": "code",
   "execution_count": null,
   "metadata": {},
   "outputs": [],
   "source": []
  }
 ],
 "metadata": {
  "kernelspec": {
   "display_name": "Python 3",
   "language": "python",
   "name": "python3"
  },
  "language_info": {
   "codemirror_mode": {
    "name": "ipython",
    "version": 3
   },
   "file_extension": ".py",
   "mimetype": "text/x-python",
   "name": "python",
   "nbconvert_exporter": "python",
   "pygments_lexer": "ipython3",
   "version": "3.5.6"
  }
 },
 "nbformat": 4,
 "nbformat_minor": 2
}
