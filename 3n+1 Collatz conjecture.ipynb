{
 "cells": [
  {
   "cell_type": "code",
   "execution_count": 48,
   "metadata": {},
   "outputs": [],
   "source": [
    "def f(n):\n",
    "    if n%2==0:\n",
    "        return n/2\n",
    "    else:\n",
    "        return (3*n+1)/2\n",
    "def g(n):\n",
    "    a=n\n",
    "    l=[]\n",
    "    i=n\n",
    "    l.append(n)\n",
    "    while i>1:\n",
    "        a=f(a)\n",
    "        i=f(a)\n",
    "        if a!=1:\n",
    "            l.append(int(a))\n",
    "        else: \n",
    "            l.append(1)\n",
    "            break\n",
    "    return l\n",
    "\n",
    "## one can take len(list) to know the terminal time"
   ]
  },
  {
   "cell_type": "code",
   "execution_count": 2,
   "metadata": {},
   "outputs": [
    {
     "data": {
      "text/plain": [
       "9"
      ]
     },
     "execution_count": 2,
     "metadata": {},
     "output_type": "execute_result"
    }
   ],
   "source": [
    "len(g(12))"
   ]
  },
  {
   "cell_type": "code",
   "execution_count": 3,
   "metadata": {},
   "outputs": [
    {
     "data": {
      "text/plain": [
       "[19, 58, 29, 88, 44, 22, 11, 34, 17, 52, 26, 13, 40, 20, 10, 5, 16, 8, 4, 2]"
      ]
     },
     "execution_count": 3,
     "metadata": {},
     "output_type": "execute_result"
    }
   ],
   "source": [
    " g(19)"
   ]
  },
  {
   "cell_type": "code",
   "execution_count": 4,
   "metadata": {},
   "outputs": [
    {
     "data": {
      "text/plain": [
       "[27,\n",
       " 82,\n",
       " 41,\n",
       " 124,\n",
       " 62,\n",
       " 31,\n",
       " 94,\n",
       " 47,\n",
       " 142,\n",
       " 71,\n",
       " 214,\n",
       " 107,\n",
       " 322,\n",
       " 161,\n",
       " 484,\n",
       " 242,\n",
       " 121,\n",
       " 364,\n",
       " 182,\n",
       " 91,\n",
       " 274,\n",
       " 137,\n",
       " 412,\n",
       " 206,\n",
       " 103,\n",
       " 310,\n",
       " 155,\n",
       " 466,\n",
       " 233,\n",
       " 700,\n",
       " 350,\n",
       " 175,\n",
       " 526,\n",
       " 263,\n",
       " 790,\n",
       " 395,\n",
       " 1186,\n",
       " 593,\n",
       " 1780,\n",
       " 890,\n",
       " 445,\n",
       " 1336,\n",
       " 668,\n",
       " 334,\n",
       " 167,\n",
       " 502,\n",
       " 251,\n",
       " 754,\n",
       " 377,\n",
       " 1132,\n",
       " 566,\n",
       " 283,\n",
       " 850,\n",
       " 425,\n",
       " 1276,\n",
       " 638,\n",
       " 319,\n",
       " 958,\n",
       " 479,\n",
       " 1438,\n",
       " 719,\n",
       " 2158,\n",
       " 1079,\n",
       " 3238,\n",
       " 1619,\n",
       " 4858,\n",
       " 2429,\n",
       " 7288,\n",
       " 3644,\n",
       " 1822,\n",
       " 911,\n",
       " 2734,\n",
       " 1367,\n",
       " 4102,\n",
       " 2051,\n",
       " 6154,\n",
       " 3077,\n",
       " 9232,\n",
       " 4616,\n",
       " 2308,\n",
       " 1154,\n",
       " 577,\n",
       " 1732,\n",
       " 866,\n",
       " 433,\n",
       " 1300,\n",
       " 650,\n",
       " 325,\n",
       " 976,\n",
       " 488,\n",
       " 244,\n",
       " 122,\n",
       " 61,\n",
       " 184,\n",
       " 92,\n",
       " 46,\n",
       " 23,\n",
       " 70,\n",
       " 35,\n",
       " 106,\n",
       " 53,\n",
       " 160,\n",
       " 80,\n",
       " 40,\n",
       " 20,\n",
       " 10,\n",
       " 5,\n",
       " 16,\n",
       " 8,\n",
       " 4,\n",
       " 2]"
      ]
     },
     "execution_count": 4,
     "metadata": {},
     "output_type": "execute_result"
    }
   ],
   "source": [
    " g(27)"
   ]
  },
  {
   "cell_type": "code",
   "execution_count": 7,
   "metadata": {},
   "outputs": [
    {
     "data": {
      "text/plain": [
       "[1223,\n",
       " 3670,\n",
       " 1835,\n",
       " 5506,\n",
       " 2753,\n",
       " 8260,\n",
       " 4130,\n",
       " 2065,\n",
       " 6196,\n",
       " 3098,\n",
       " 1549,\n",
       " 4648,\n",
       " 2324,\n",
       " 1162,\n",
       " 581,\n",
       " 1744,\n",
       " 872,\n",
       " 436,\n",
       " 218,\n",
       " 109,\n",
       " 328,\n",
       " 164,\n",
       " 82,\n",
       " 41,\n",
       " 124,\n",
       " 62,\n",
       " 31,\n",
       " 94,\n",
       " 47,\n",
       " 142,\n",
       " 71,\n",
       " 214,\n",
       " 107,\n",
       " 322,\n",
       " 161,\n",
       " 484,\n",
       " 242,\n",
       " 121,\n",
       " 364,\n",
       " 182,\n",
       " 91,\n",
       " 274,\n",
       " 137,\n",
       " 412,\n",
       " 206,\n",
       " 103,\n",
       " 310,\n",
       " 155,\n",
       " 466,\n",
       " 233,\n",
       " 700,\n",
       " 350,\n",
       " 175,\n",
       " 526,\n",
       " 263,\n",
       " 790,\n",
       " 395,\n",
       " 1186,\n",
       " 593,\n",
       " 1780,\n",
       " 890,\n",
       " 445,\n",
       " 1336,\n",
       " 668,\n",
       " 334,\n",
       " 167,\n",
       " 502,\n",
       " 251,\n",
       " 754,\n",
       " 377,\n",
       " 1132,\n",
       " 566,\n",
       " 283,\n",
       " 850,\n",
       " 425,\n",
       " 1276,\n",
       " 638,\n",
       " 319,\n",
       " 958,\n",
       " 479,\n",
       " 1438,\n",
       " 719,\n",
       " 2158,\n",
       " 1079,\n",
       " 3238,\n",
       " 1619,\n",
       " 4858,\n",
       " 2429,\n",
       " 7288,\n",
       " 3644,\n",
       " 1822,\n",
       " 911,\n",
       " 2734,\n",
       " 1367,\n",
       " 4102,\n",
       " 2051,\n",
       " 6154,\n",
       " 3077,\n",
       " 9232,\n",
       " 4616,\n",
       " 2308,\n",
       " 1154,\n",
       " 577,\n",
       " 1732,\n",
       " 866,\n",
       " 433,\n",
       " 1300,\n",
       " 650,\n",
       " 325,\n",
       " 976,\n",
       " 488,\n",
       " 244,\n",
       " 122,\n",
       " 61,\n",
       " 184,\n",
       " 92,\n",
       " 46,\n",
       " 23,\n",
       " 70,\n",
       " 35,\n",
       " 106,\n",
       " 53,\n",
       " 160,\n",
       " 80,\n",
       " 40,\n",
       " 20,\n",
       " 10,\n",
       " 5,\n",
       " 16,\n",
       " 8,\n",
       " 4,\n",
       " 2]"
      ]
     },
     "execution_count": 7,
     "metadata": {},
     "output_type": "execute_result"
    }
   ],
   "source": [
    "g(1223)\n",
    "    "
   ]
  },
  {
   "cell_type": "code",
   "execution_count": 6,
   "metadata": {},
   "outputs": [
    {
     "data": {
      "text/plain": [
       "5"
      ]
     },
     "execution_count": 6,
     "metadata": {},
     "output_type": "execute_result"
    }
   ],
   "source": [
    "# 2^n+1?\n",
    "len(g(2**2+1))"
   ]
  },
  {
   "cell_type": "code",
   "execution_count": 7,
   "metadata": {},
   "outputs": [
    {
     "data": {
      "text/plain": [
       "19"
      ]
     },
     "execution_count": 7,
     "metadata": {},
     "output_type": "execute_result"
    }
   ],
   "source": [
    "len(g(2**3+1))"
   ]
  },
  {
   "cell_type": "code",
   "execution_count": 8,
   "metadata": {},
   "outputs": [
    {
     "data": {
      "text/plain": [
       "12"
      ]
     },
     "execution_count": 8,
     "metadata": {},
     "output_type": "execute_result"
    }
   ],
   "source": [
    "len(g(2**4+1))"
   ]
  },
  {
   "cell_type": "code",
   "execution_count": 49,
   "metadata": {},
   "outputs": [
    {
     "data": {
      "text/plain": [
       "18"
      ]
     },
     "execution_count": 49,
     "metadata": {},
     "output_type": "execute_result"
    }
   ],
   "source": [
    "len(g(2**5+1))"
   ]
  },
  {
   "cell_type": "code",
   "execution_count": 50,
   "metadata": {},
   "outputs": [
    {
     "data": {
      "text/plain": [
       "19"
      ]
     },
     "execution_count": 50,
     "metadata": {},
     "output_type": "execute_result"
    }
   ],
   "source": [
    "len(g(2**6+1))"
   ]
  },
  {
   "cell_type": "code",
   "execution_count": 11,
   "metadata": {},
   "outputs": [
    {
     "data": {
      "text/plain": [
       "121"
      ]
     },
     "execution_count": 11,
     "metadata": {},
     "output_type": "execute_result"
    }
   ],
   "source": [
    "len(g(2**7+1))"
   ]
  },
  {
   "cell_type": "code",
   "execution_count": 12,
   "metadata": {},
   "outputs": [
    {
     "data": {
      "text/plain": [
       "122"
      ]
     },
     "execution_count": 12,
     "metadata": {},
     "output_type": "execute_result"
    }
   ],
   "source": [
    "len(g(2**8+1))"
   ]
  },
  {
   "cell_type": "code",
   "execution_count": 13,
   "metadata": {},
   "outputs": [
    {
     "data": {
      "text/plain": [
       "35"
      ]
     },
     "execution_count": 13,
     "metadata": {},
     "output_type": "execute_result"
    }
   ],
   "source": [
    "len(g(2**9+1))"
   ]
  },
  {
   "cell_type": "code",
   "execution_count": 14,
   "metadata": {},
   "outputs": [
    {
     "data": {
      "text/plain": [
       "36"
      ]
     },
     "execution_count": 14,
     "metadata": {},
     "output_type": "execute_result"
    }
   ],
   "source": [
    "len(g(2**10+1))"
   ]
  },
  {
   "cell_type": "code",
   "execution_count": 15,
   "metadata": {},
   "outputs": [
    {
     "data": {
      "text/plain": [
       "156"
      ]
     },
     "execution_count": 15,
     "metadata": {},
     "output_type": "execute_result"
    }
   ],
   "source": [
    "len(g(2**11+1))"
   ]
  },
  {
   "cell_type": "code",
   "execution_count": 16,
   "metadata": {},
   "outputs": [
    {
     "data": {
      "text/plain": [
       "113"
      ]
     },
     "execution_count": 16,
     "metadata": {},
     "output_type": "execute_result"
    }
   ],
   "source": [
    "len(g(2**12+1))"
   ]
  },
  {
   "cell_type": "code",
   "execution_count": 17,
   "metadata": {},
   "outputs": [
    {
     "data": {
      "text/plain": [
       "52"
      ]
     },
     "execution_count": 17,
     "metadata": {},
     "output_type": "execute_result"
    }
   ],
   "source": [
    "len(g(2**13+1))"
   ]
  },
  {
   "cell_type": "code",
   "execution_count": 18,
   "metadata": {},
   "outputs": [
    {
     "data": {
      "text/plain": [
       "53"
      ]
     },
     "execution_count": 18,
     "metadata": {},
     "output_type": "execute_result"
    }
   ],
   "source": [
    "len(g(2**14+1))"
   ]
  },
  {
   "cell_type": "code",
   "execution_count": 19,
   "metadata": {},
   "outputs": [
    {
     "data": {
      "text/plain": [
       "98"
      ]
     },
     "execution_count": 19,
     "metadata": {},
     "output_type": "execute_result"
    }
   ],
   "source": [
    "len(g(2**15+1))"
   ]
  },
  {
   "cell_type": "code",
   "execution_count": 20,
   "metadata": {},
   "outputs": [
    {
     "data": {
      "text/plain": [
       "99"
      ]
     },
     "execution_count": 20,
     "metadata": {},
     "output_type": "execute_result"
    }
   ],
   "source": [
    "len(g(2**16+1))"
   ]
  },
  {
   "cell_type": "code",
   "execution_count": 21,
   "metadata": {},
   "outputs": [
    {
     "data": {
      "text/plain": [
       "100"
      ]
     },
     "execution_count": 21,
     "metadata": {},
     "output_type": "execute_result"
    }
   ],
   "source": [
    "len(g(2**17+1))"
   ]
  },
  {
   "cell_type": "code",
   "execution_count": 22,
   "metadata": {},
   "outputs": [
    {
     "data": {
      "text/plain": [
       "101"
      ]
     },
     "execution_count": 22,
     "metadata": {},
     "output_type": "execute_result"
    }
   ],
   "source": [
    "len(g(2**18+1))"
   ]
  },
  {
   "cell_type": "code",
   "execution_count": 23,
   "metadata": {},
   "outputs": [
    {
     "data": {
      "text/plain": [
       "102"
      ]
     },
     "execution_count": 23,
     "metadata": {},
     "output_type": "execute_result"
    }
   ],
   "source": [
    "len(g(2**19+1))"
   ]
  },
  {
   "cell_type": "code",
   "execution_count": 24,
   "metadata": {},
   "outputs": [
    {
     "data": {
      "text/plain": [
       "72"
      ]
     },
     "execution_count": 24,
     "metadata": {},
     "output_type": "execute_result"
    }
   ],
   "source": [
    "len(g(2**20+1))"
   ]
  },
  {
   "cell_type": "code",
   "execution_count": 25,
   "metadata": {},
   "outputs": [
    {
     "data": {
      "text/plain": [
       "166"
      ]
     },
     "execution_count": 25,
     "metadata": {},
     "output_type": "execute_result"
    }
   ],
   "source": [
    "len(g(2**21+1))"
   ]
  },
  {
   "cell_type": "code",
   "execution_count": 27,
   "metadata": {},
   "outputs": [
    {
     "data": {
      "text/plain": [
       "167"
      ]
     },
     "execution_count": 27,
     "metadata": {},
     "output_type": "execute_result"
    }
   ],
   "source": [
    "len(g(2**22+1))"
   ]
  },
  {
   "cell_type": "code",
   "execution_count": 28,
   "metadata": {},
   "outputs": [
    {
     "data": {
      "text/plain": [
       "168"
      ]
     },
     "execution_count": 28,
     "metadata": {},
     "output_type": "execute_result"
    }
   ],
   "source": [
    "len(g(2**23+1))"
   ]
  },
  {
   "cell_type": "code",
   "execution_count": 29,
   "metadata": {},
   "outputs": [
    {
     "data": {
      "text/plain": [
       "169"
      ]
     },
     "execution_count": 29,
     "metadata": {},
     "output_type": "execute_result"
    }
   ],
   "source": [
    "len(g(2**24+1))"
   ]
  },
  {
   "cell_type": "code",
   "execution_count": 31,
   "metadata": {},
   "outputs": [
    {
     "data": {
      "text/plain": [
       "170"
      ]
     },
     "execution_count": 31,
     "metadata": {},
     "output_type": "execute_result"
    }
   ],
   "source": [
    "len(g(2**25+1))"
   ]
  },
  {
   "cell_type": "code",
   "execution_count": 34,
   "metadata": {},
   "outputs": [
    {
     "data": {
      "text/plain": [
       "171"
      ]
     },
     "execution_count": 34,
     "metadata": {},
     "output_type": "execute_result"
    }
   ],
   "source": [
    "len(g(2**26+1))"
   ]
  },
  {
   "cell_type": "code",
   "execution_count": 35,
   "metadata": {},
   "outputs": [
    {
     "data": {
      "text/plain": [
       "247"
      ]
     },
     "execution_count": 35,
     "metadata": {},
     "output_type": "execute_result"
    }
   ],
   "source": [
    "len(g(2**27+1))"
   ]
  },
  {
   "cell_type": "code",
   "execution_count": 36,
   "metadata": {},
   "outputs": [
    {
     "data": {
      "text/plain": [
       "173"
      ]
     },
     "execution_count": 36,
     "metadata": {},
     "output_type": "execute_result"
    }
   ],
   "source": [
    "len(g(2**28+1))"
   ]
  },
  {
   "cell_type": "code",
   "execution_count": 37,
   "metadata": {},
   "outputs": [
    {
     "data": {
      "text/plain": [
       "187"
      ]
     },
     "execution_count": 37,
     "metadata": {},
     "output_type": "execute_result"
    }
   ],
   "source": [
    "len(g(2**29+1))"
   ]
  },
  {
   "cell_type": "code",
   "execution_count": 38,
   "metadata": {},
   "outputs": [
    {
     "data": {
      "text/plain": [
       "188"
      ]
     },
     "execution_count": 38,
     "metadata": {},
     "output_type": "execute_result"
    }
   ],
   "source": [
    "len(g(2**30+1))"
   ]
  },
  {
   "cell_type": "code",
   "execution_count": 39,
   "metadata": {},
   "outputs": [
    {
     "data": {
      "text/plain": [
       "251"
      ]
     },
     "execution_count": 39,
     "metadata": {},
     "output_type": "execute_result"
    }
   ],
   "source": [
    "len(g(2**31+1))"
   ]
  },
  {
   "cell_type": "code",
   "execution_count": 40,
   "metadata": {},
   "outputs": [
    {
     "data": {
      "text/plain": [
       "252"
      ]
     },
     "execution_count": 40,
     "metadata": {},
     "output_type": "execute_result"
    }
   ],
   "source": [
    "len(g(2**32+1))"
   ]
  },
  {
   "cell_type": "code",
   "execution_count": 41,
   "metadata": {},
   "outputs": [
    {
     "data": {
      "text/plain": [
       "178"
      ]
     },
     "execution_count": 41,
     "metadata": {},
     "output_type": "execute_result"
    }
   ],
   "source": [
    "len(g(2**33+1))"
   ]
  },
  {
   "cell_type": "code",
   "execution_count": 42,
   "metadata": {},
   "outputs": [
    {
     "data": {
      "text/plain": [
       "179"
      ]
     },
     "execution_count": 42,
     "metadata": {},
     "output_type": "execute_result"
    }
   ],
   "source": [
    "len(g(2**34+1))"
   ]
  },
  {
   "cell_type": "code",
   "execution_count": 43,
   "metadata": {},
   "outputs": [
    {
     "data": {
      "text/plain": [
       "317"
      ]
     },
     "execution_count": 43,
     "metadata": {},
     "output_type": "execute_result"
    }
   ],
   "source": [
    "len(g(2**35+1))"
   ]
  },
  {
   "cell_type": "code",
   "execution_count": 44,
   "metadata": {},
   "outputs": [
    {
     "data": {
      "text/plain": [
       "243"
      ]
     },
     "execution_count": 44,
     "metadata": {},
     "output_type": "execute_result"
    }
   ],
   "source": [
    "len(g(2**36+1))"
   ]
  },
  {
   "cell_type": "code",
   "execution_count": 45,
   "metadata": {},
   "outputs": [
    {
     "data": {
      "text/plain": [
       "195"
      ]
     },
     "execution_count": 45,
     "metadata": {},
     "output_type": "execute_result"
    }
   ],
   "source": [
    "len(g(2**37+1))"
   ]
  },
  {
   "cell_type": "code",
   "execution_count": 46,
   "metadata": {},
   "outputs": [
    {
     "data": {
      "text/plain": [
       "196"
      ]
     },
     "execution_count": 46,
     "metadata": {},
     "output_type": "execute_result"
    }
   ],
   "source": [
    "len(g(2**38+1))"
   ]
  },
  {
   "cell_type": "code",
   "execution_count": 47,
   "metadata": {},
   "outputs": [
    {
     "data": {
      "text/plain": [
       "137438953473"
      ]
     },
     "execution_count": 47,
     "metadata": {},
     "output_type": "execute_result"
    }
   ],
   "source": []
  },
  {
   "cell_type": "code",
   "execution_count": 51,
   "metadata": {},
   "outputs": [
    {
     "data": {
      "text/plain": [
       "[513,\n",
       " 770,\n",
       " 385,\n",
       " 578,\n",
       " 289,\n",
       " 434,\n",
       " 217,\n",
       " 326,\n",
       " 163,\n",
       " 245,\n",
       " 368,\n",
       " 184,\n",
       " 92,\n",
       " 46,\n",
       " 23,\n",
       " 35,\n",
       " 53,\n",
       " 80,\n",
       " 40,\n",
       " 20,\n",
       " 10,\n",
       " 5,\n",
       " 8,\n",
       " 4,\n",
       " 2]"
      ]
     },
     "execution_count": 51,
     "metadata": {},
     "output_type": "execute_result"
    }
   ],
   "source": [
    "g(2**9+1)"
   ]
  },
  {
   "cell_type": "code",
   "execution_count": 52,
   "metadata": {},
   "outputs": [
    {
     "data": {
      "text/plain": [
       "[1025,\n",
       " 1538,\n",
       " 769,\n",
       " 1154,\n",
       " 577,\n",
       " 866,\n",
       " 433,\n",
       " 650,\n",
       " 325,\n",
       " 488,\n",
       " 244,\n",
       " 122,\n",
       " 61,\n",
       " 92,\n",
       " 46,\n",
       " 23,\n",
       " 35,\n",
       " 53,\n",
       " 80,\n",
       " 40,\n",
       " 20,\n",
       " 10,\n",
       " 5,\n",
       " 8,\n",
       " 4,\n",
       " 2]"
      ]
     },
     "execution_count": 52,
     "metadata": {},
     "output_type": "execute_result"
    }
   ],
   "source": [
    "g(2**10+1)"
   ]
  },
  {
   "cell_type": "code",
   "execution_count": null,
   "metadata": {},
   "outputs": [],
   "source": []
  }
 ],
 "metadata": {
  "kernelspec": {
   "display_name": "Python 3",
   "language": "python",
   "name": "python3"
  },
  "language_info": {
   "codemirror_mode": {
    "name": "ipython",
    "version": 3
   },
   "file_extension": ".py",
   "mimetype": "text/x-python",
   "name": "python",
   "nbconvert_exporter": "python",
   "pygments_lexer": "ipython3",
   "version": "3.5.6"
  }
 },
 "nbformat": 4,
 "nbformat_minor": 2
}
